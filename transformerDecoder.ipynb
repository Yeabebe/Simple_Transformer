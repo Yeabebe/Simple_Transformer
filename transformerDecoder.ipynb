{
  "cells": [
    {
      "cell_type": "markdown",
      "id": "094c86ae",
      "metadata": {
        "id": "094c86ae"
      },
      "source": [
        "Import Libraries"
      ]
    },
    {
      "cell_type": "code",
      "execution_count": 2,
      "id": "c46a206c",
      "metadata": {
        "id": "c46a206c"
      },
      "outputs": [],
      "source": [
        "import torch\n",
        "import torch.nn as nn\n",
        "import torch.optim as optim\n",
        "import torch.nn.functional as F\n",
        "from torch.utils.data import Dataset, DataLoader\n",
        "import os\n",
        "import re\n",
        "import math\n",
        "import numpy as np\n",
        "from google.colab import files"
      ]
    },
    {
      "cell_type": "markdown",
      "id": "b3f4a5ef",
      "metadata": {
        "id": "b3f4a5ef"
      },
      "source": [
        "Load Dataset"
      ]
    },
    {
      "cell_type": "code",
      "execution_count": 3,
      "id": "f1a71f47",
      "metadata": {
        "colab": {
          "base_uri": "https://localhost:8080/",
          "height": 214
        },
        "id": "f1a71f47",
        "outputId": "21c2ff45-b031-409b-9a5e-1123e2ecfac6"
      },
      "outputs": [
        {
          "output_type": "display_data",
          "data": {
            "text/plain": [
              "<IPython.core.display.HTML object>"
            ],
            "text/html": [
              "\n",
              "     <input type=\"file\" id=\"files-7e150935-0dd4-44ef-b962-f64a36ec0001\" name=\"files[]\" multiple disabled\n",
              "        style=\"border:none\" />\n",
              "     <output id=\"result-7e150935-0dd4-44ef-b962-f64a36ec0001\">\n",
              "      Upload widget is only available when the cell has been executed in the\n",
              "      current browser session. Please rerun this cell to enable.\n",
              "      </output>\n",
              "      <script>// Copyright 2017 Google LLC\n",
              "//\n",
              "// Licensed under the Apache License, Version 2.0 (the \"License\");\n",
              "// you may not use this file except in compliance with the License.\n",
              "// You may obtain a copy of the License at\n",
              "//\n",
              "//      http://www.apache.org/licenses/LICENSE-2.0\n",
              "//\n",
              "// Unless required by applicable law or agreed to in writing, software\n",
              "// distributed under the License is distributed on an \"AS IS\" BASIS,\n",
              "// WITHOUT WARRANTIES OR CONDITIONS OF ANY KIND, either express or implied.\n",
              "// See the License for the specific language governing permissions and\n",
              "// limitations under the License.\n",
              "\n",
              "/**\n",
              " * @fileoverview Helpers for google.colab Python module.\n",
              " */\n",
              "(function(scope) {\n",
              "function span(text, styleAttributes = {}) {\n",
              "  const element = document.createElement('span');\n",
              "  element.textContent = text;\n",
              "  for (const key of Object.keys(styleAttributes)) {\n",
              "    element.style[key] = styleAttributes[key];\n",
              "  }\n",
              "  return element;\n",
              "}\n",
              "\n",
              "// Max number of bytes which will be uploaded at a time.\n",
              "const MAX_PAYLOAD_SIZE = 100 * 1024;\n",
              "\n",
              "function _uploadFiles(inputId, outputId) {\n",
              "  const steps = uploadFilesStep(inputId, outputId);\n",
              "  const outputElement = document.getElementById(outputId);\n",
              "  // Cache steps on the outputElement to make it available for the next call\n",
              "  // to uploadFilesContinue from Python.\n",
              "  outputElement.steps = steps;\n",
              "\n",
              "  return _uploadFilesContinue(outputId);\n",
              "}\n",
              "\n",
              "// This is roughly an async generator (not supported in the browser yet),\n",
              "// where there are multiple asynchronous steps and the Python side is going\n",
              "// to poll for completion of each step.\n",
              "// This uses a Promise to block the python side on completion of each step,\n",
              "// then passes the result of the previous step as the input to the next step.\n",
              "function _uploadFilesContinue(outputId) {\n",
              "  const outputElement = document.getElementById(outputId);\n",
              "  const steps = outputElement.steps;\n",
              "\n",
              "  const next = steps.next(outputElement.lastPromiseValue);\n",
              "  return Promise.resolve(next.value.promise).then((value) => {\n",
              "    // Cache the last promise value to make it available to the next\n",
              "    // step of the generator.\n",
              "    outputElement.lastPromiseValue = value;\n",
              "    return next.value.response;\n",
              "  });\n",
              "}\n",
              "\n",
              "/**\n",
              " * Generator function which is called between each async step of the upload\n",
              " * process.\n",
              " * @param {string} inputId Element ID of the input file picker element.\n",
              " * @param {string} outputId Element ID of the output display.\n",
              " * @return {!Iterable<!Object>} Iterable of next steps.\n",
              " */\n",
              "function* uploadFilesStep(inputId, outputId) {\n",
              "  const inputElement = document.getElementById(inputId);\n",
              "  inputElement.disabled = false;\n",
              "\n",
              "  const outputElement = document.getElementById(outputId);\n",
              "  outputElement.innerHTML = '';\n",
              "\n",
              "  const pickedPromise = new Promise((resolve) => {\n",
              "    inputElement.addEventListener('change', (e) => {\n",
              "      resolve(e.target.files);\n",
              "    });\n",
              "  });\n",
              "\n",
              "  const cancel = document.createElement('button');\n",
              "  inputElement.parentElement.appendChild(cancel);\n",
              "  cancel.textContent = 'Cancel upload';\n",
              "  const cancelPromise = new Promise((resolve) => {\n",
              "    cancel.onclick = () => {\n",
              "      resolve(null);\n",
              "    };\n",
              "  });\n",
              "\n",
              "  // Wait for the user to pick the files.\n",
              "  const files = yield {\n",
              "    promise: Promise.race([pickedPromise, cancelPromise]),\n",
              "    response: {\n",
              "      action: 'starting',\n",
              "    }\n",
              "  };\n",
              "\n",
              "  cancel.remove();\n",
              "\n",
              "  // Disable the input element since further picks are not allowed.\n",
              "  inputElement.disabled = true;\n",
              "\n",
              "  if (!files) {\n",
              "    return {\n",
              "      response: {\n",
              "        action: 'complete',\n",
              "      }\n",
              "    };\n",
              "  }\n",
              "\n",
              "  for (const file of files) {\n",
              "    const li = document.createElement('li');\n",
              "    li.append(span(file.name, {fontWeight: 'bold'}));\n",
              "    li.append(span(\n",
              "        `(${file.type || 'n/a'}) - ${file.size} bytes, ` +\n",
              "        `last modified: ${\n",
              "            file.lastModifiedDate ? file.lastModifiedDate.toLocaleDateString() :\n",
              "                                    'n/a'} - `));\n",
              "    const percent = span('0% done');\n",
              "    li.appendChild(percent);\n",
              "\n",
              "    outputElement.appendChild(li);\n",
              "\n",
              "    const fileDataPromise = new Promise((resolve) => {\n",
              "      const reader = new FileReader();\n",
              "      reader.onload = (e) => {\n",
              "        resolve(e.target.result);\n",
              "      };\n",
              "      reader.readAsArrayBuffer(file);\n",
              "    });\n",
              "    // Wait for the data to be ready.\n",
              "    let fileData = yield {\n",
              "      promise: fileDataPromise,\n",
              "      response: {\n",
              "        action: 'continue',\n",
              "      }\n",
              "    };\n",
              "\n",
              "    // Use a chunked sending to avoid message size limits. See b/62115660.\n",
              "    let position = 0;\n",
              "    do {\n",
              "      const length = Math.min(fileData.byteLength - position, MAX_PAYLOAD_SIZE);\n",
              "      const chunk = new Uint8Array(fileData, position, length);\n",
              "      position += length;\n",
              "\n",
              "      const base64 = btoa(String.fromCharCode.apply(null, chunk));\n",
              "      yield {\n",
              "        response: {\n",
              "          action: 'append',\n",
              "          file: file.name,\n",
              "          data: base64,\n",
              "        },\n",
              "      };\n",
              "\n",
              "      let percentDone = fileData.byteLength === 0 ?\n",
              "          100 :\n",
              "          Math.round((position / fileData.byteLength) * 100);\n",
              "      percent.textContent = `${percentDone}% done`;\n",
              "\n",
              "    } while (position < fileData.byteLength);\n",
              "  }\n",
              "\n",
              "  // All done.\n",
              "  yield {\n",
              "    response: {\n",
              "      action: 'complete',\n",
              "    }\n",
              "  };\n",
              "}\n",
              "\n",
              "scope.google = scope.google || {};\n",
              "scope.google.colab = scope.google.colab || {};\n",
              "scope.google.colab._files = {\n",
              "  _uploadFiles,\n",
              "  _uploadFilesContinue,\n",
              "};\n",
              "})(self);\n",
              "</script> "
            ]
          },
          "metadata": {}
        },
        {
          "output_type": "stream",
          "name": "stdout",
          "text": [
            "Saving ptb.test.txt to ptb.test.txt\n",
            "Saving ptb.train.txt to ptb.train.txt\n",
            "Saving ptb.valid.txt to ptb.valid.txt\n",
            "Sample from training text:\n",
            "  aer banknote berlitz calloway centrust cluett fromstein gitano guterman hydro-quebec ipo kia memotec mlx nahb punts rake regatta rubens sim snack-food ssangyong swapo wachter \n",
            " pierre <unk> N years o\n"
          ]
        }
      ],
      "source": [
        "uploaded = files.upload()\n",
        "\n",
        "train_path = \"ptb.train.txt\"\n",
        "valid_path = \"ptb.valid.txt\"\n",
        "test_path = \"ptb.test.txt\"\n",
        "\n",
        "with open(train_path, \"r\") as f:\n",
        "    train_text = f.read()\n",
        "\n",
        "with open(valid_path, \"r\") as f:\n",
        "    valid_text = f.read()\n",
        "\n",
        "with open(test_path, \"r\") as f:\n",
        "    test_text = f.read()\n",
        "\n",
        "print(\"Sample from training text:\\n\", train_text[:200])"
      ]
    },
    {
      "cell_type": "markdown",
      "id": "5d3da882",
      "metadata": {
        "id": "5d3da882"
      },
      "source": [
        "Tokenization"
      ]
    },
    {
      "cell_type": "code",
      "source": [
        "!pip install tokenizers"
      ],
      "metadata": {
        "id": "NPR6rHHAcSDr",
        "outputId": "acade50f-d70b-4e73-d602-bdb09fd1a357",
        "colab": {
          "base_uri": "https://localhost:8080/"
        }
      },
      "id": "NPR6rHHAcSDr",
      "execution_count": 1,
      "outputs": [
        {
          "output_type": "stream",
          "name": "stdout",
          "text": [
            "Requirement already satisfied: tokenizers in /usr/local/lib/python3.12/dist-packages (0.21.4)\n",
            "Requirement already satisfied: huggingface-hub<1.0,>=0.16.4 in /usr/local/lib/python3.12/dist-packages (from tokenizers) (0.34.4)\n",
            "Requirement already satisfied: filelock in /usr/local/lib/python3.12/dist-packages (from huggingface-hub<1.0,>=0.16.4->tokenizers) (3.19.1)\n",
            "Requirement already satisfied: fsspec>=2023.5.0 in /usr/local/lib/python3.12/dist-packages (from huggingface-hub<1.0,>=0.16.4->tokenizers) (2025.3.0)\n",
            "Requirement already satisfied: packaging>=20.9 in /usr/local/lib/python3.12/dist-packages (from huggingface-hub<1.0,>=0.16.4->tokenizers) (25.0)\n",
            "Requirement already satisfied: pyyaml>=5.1 in /usr/local/lib/python3.12/dist-packages (from huggingface-hub<1.0,>=0.16.4->tokenizers) (6.0.2)\n",
            "Requirement already satisfied: requests in /usr/local/lib/python3.12/dist-packages (from huggingface-hub<1.0,>=0.16.4->tokenizers) (2.32.4)\n",
            "Requirement already satisfied: tqdm>=4.42.1 in /usr/local/lib/python3.12/dist-packages (from huggingface-hub<1.0,>=0.16.4->tokenizers) (4.67.1)\n",
            "Requirement already satisfied: typing-extensions>=3.7.4.3 in /usr/local/lib/python3.12/dist-packages (from huggingface-hub<1.0,>=0.16.4->tokenizers) (4.14.1)\n",
            "Requirement already satisfied: hf-xet<2.0.0,>=1.1.3 in /usr/local/lib/python3.12/dist-packages (from huggingface-hub<1.0,>=0.16.4->tokenizers) (1.1.7)\n",
            "Requirement already satisfied: charset_normalizer<4,>=2 in /usr/local/lib/python3.12/dist-packages (from requests->huggingface-hub<1.0,>=0.16.4->tokenizers) (3.4.3)\n",
            "Requirement already satisfied: idna<4,>=2.5 in /usr/local/lib/python3.12/dist-packages (from requests->huggingface-hub<1.0,>=0.16.4->tokenizers) (3.10)\n",
            "Requirement already satisfied: urllib3<3,>=1.21.1 in /usr/local/lib/python3.12/dist-packages (from requests->huggingface-hub<1.0,>=0.16.4->tokenizers) (2.5.0)\n",
            "Requirement already satisfied: certifi>=2017.4.17 in /usr/local/lib/python3.12/dist-packages (from requests->huggingface-hub<1.0,>=0.16.4->tokenizers) (2025.8.3)\n"
          ]
        }
      ]
    },
    {
      "cell_type": "code",
      "execution_count": 4,
      "id": "f47dcf8e",
      "metadata": {
        "colab": {
          "base_uri": "https://localhost:8080/"
        },
        "id": "f47dcf8e",
        "outputId": "426de9da-2b41-44b6-fef8-436195091140"
      },
      "outputs": [
        {
          "output_type": "stream",
          "name": "stdout",
          "text": [
            "Vocab size: 8000\n"
          ]
        }
      ],
      "source": [
        "from tokenizers import ByteLevelBPETokenizer\n",
        "\n",
        "# Train a BPE tokenizer on your training text\n",
        "tokenizer = ByteLevelBPETokenizer()\n",
        "tokenizer.train_from_iterator([train_text], vocab_size=8000, min_frequency=2, special_tokens=[\"<unk>\"])\n",
        "\n",
        "# Use the trained tokenizer instead of whitespace split\n",
        "def tokenize(text):\n",
        "    return tokenizer.encode(text).tokens\n",
        "\n",
        "train_tokens = tokenize(train_text)\n",
        "valid_tokens = tokenize(valid_text)\n",
        "test_tokens = tokenize(test_text)\n",
        "\n",
        "# Build vocab from tokenizer\n",
        "stoi = tokenizer.get_vocab()\n",
        "itos = {i: w for w, i in stoi.items()}\n",
        "vocab_size = len(stoi)\n",
        "print(\"Vocab size:\", vocab_size)\n",
        "\n",
        "def encode(tokens):\n",
        "    return [stoi.get(t, stoi[\"<unk>\"]) for t in tokens]\n",
        "\n",
        "def decode(indices):\n",
        "    return [itos[i] for i in indices]\n",
        "\n",
        "train_ids = encode(train_tokens)\n",
        "valid_ids = encode(valid_tokens)\n",
        "test_ids = encode(test_tokens)"
      ]
    },
    {
      "cell_type": "markdown",
      "id": "7f157a0d",
      "metadata": {
        "id": "7f157a0d"
      },
      "source": [
        "Dataset Class"
      ]
    },
    {
      "cell_type": "code",
      "execution_count": null,
      "id": "f1dbd0e5",
      "metadata": {
        "id": "f1dbd0e5"
      },
      "outputs": [],
      "source": [
        "class LanguageModelingDataset(Dataset):\n",
        "    def __init__(self, ids, block_size):\n",
        "        self.ids = ids\n",
        "        self.block_size = block_size\n",
        "\n",
        "    def __len__(self):\n",
        "        return len(self.ids) - self.block_size\n",
        "\n",
        "    def __getitem__(self, idx):\n",
        "        x = torch.tensor(self.ids[idx:idx+self.block_size], dtype=torch.long)\n",
        "        y = torch.tensor(self.ids[idx+1:idx+self.block_size+1], dtype=torch.long)\n",
        "        return x, y\n",
        "\n",
        "block_size = 64\n",
        "train_dataset = LanguageModelingDataset(train_ids, block_size)\n",
        "valid_dataset = LanguageModelingDataset(valid_ids, block_size)\n",
        "\n",
        "train_loader = DataLoader(train_dataset, batch_size=32, shuffle=True)\n",
        "valid_loader = DataLoader(valid_dataset, batch_size=32)\n"
      ]
    },
    {
      "cell_type": "markdown",
      "id": "0cfb22ae",
      "metadata": {
        "id": "0cfb22ae"
      },
      "source": [
        "Positional Encoding"
      ]
    },
    {
      "cell_type": "code",
      "execution_count": null,
      "id": "dbbeb211",
      "metadata": {
        "id": "dbbeb211"
      },
      "outputs": [],
      "source": [
        "class PositionalEncoding(nn.Module):\n",
        "    def __init__(self, d_model, max_len=5000):\n",
        "        super().__init__()\n",
        "        self.max_len = max_len\n",
        "        pe = torch.zeros(max_len, d_model)\n",
        "        position = torch.arange(0, max_len).unsqueeze(1).float()\n",
        "        div_term = torch.exp(torch.arange(0, d_model, 2).float() * (-math.log(10000.0) / d_model))\n",
        "\n",
        "        pe[:, 0::2] = torch.sin(position * div_term)  # even indices\n",
        "        pe[:, 1::2] = torch.cos(position * div_term)  # odd indices\n",
        "        pe = pe.unsqueeze(0)\n",
        "        self.register_buffer('pe', pe)\n",
        "\n",
        "    def forward(self, x):\n",
        "        # x shape: (batch_size, seq_len, d_model)\n",
        "        return x + self.pe[:, :x.size(1)]\n"
      ]
    },
    {
      "cell_type": "markdown",
      "id": "c85b239c",
      "metadata": {
        "id": "c85b239c"
      },
      "source": [
        "Casual Mask"
      ]
    },
    {
      "cell_type": "code",
      "execution_count": null,
      "id": "fe70b948",
      "metadata": {
        "id": "fe70b948"
      },
      "outputs": [],
      "source": [
        "def generate_causal_mask(size):\n",
        "    mask = torch.tril(torch.ones(size, size)).unsqueeze(0)\n",
        "    return mask"
      ]
    },
    {
      "cell_type": "markdown",
      "id": "b23a4f6d",
      "metadata": {
        "id": "b23a4f6d"
      },
      "source": [
        "Masked Multi-Head self-attention"
      ]
    },
    {
      "cell_type": "code",
      "execution_count": null,
      "id": "2e0b6f0e",
      "metadata": {
        "id": "2e0b6f0e"
      },
      "outputs": [],
      "source": [
        "class MultiHeadAttention(nn.Module):\n",
        "    def __init__(self, d_model, num_heads):\n",
        "        super().__init__()\n",
        "        assert d_model % num_heads == 0\n",
        "        self.d_model = d_model\n",
        "        self.num_heads = num_heads\n",
        "        self.head_dim = d_model // num_heads\n",
        "\n",
        "        self.qkv = nn.Linear(d_model, d_model * 3)\n",
        "        self.fc_out = nn.Linear(d_model, d_model)\n",
        "\n",
        "    def forward(self, x, mask):\n",
        "        B, T, C = x.shape\n",
        "        qkv = self.qkv(x).chunk(3, dim=-1)\n",
        "        q, k, v = [t.view(B, T, self.num_heads, self.head_dim).transpose(1, 2) for t in qkv]\n",
        "\n",
        "        scores = (q @ k.transpose(-2, -1)) / math.sqrt(self.head_dim)\n",
        "        scores = scores.masked_fill(mask[:, :T, :T] == 0, float('-inf'))\n",
        "        attn = torch.softmax(scores, dim=-1)\n",
        "        out = (attn @ v).transpose(1, 2).contiguous().view(B, T, C)\n",
        "        return self.fc_out(out)\n"
      ]
    },
    {
      "cell_type": "markdown",
      "id": "11cc47c3",
      "metadata": {
        "id": "11cc47c3"
      },
      "source": [
        "Feed-Forward"
      ]
    },
    {
      "cell_type": "code",
      "execution_count": null,
      "id": "06f29ebe",
      "metadata": {
        "id": "06f29ebe"
      },
      "outputs": [],
      "source": [
        "class FeedForward(nn.Module):\n",
        "    def __init__(self, d_model, d_ff):\n",
        "        super().__init__()\n",
        "        self.net = nn.Sequential(\n",
        "            nn.Linear(d_model, d_ff),\n",
        "            nn.ReLU(),\n",
        "            nn.Linear(d_ff, d_model)\n",
        "        )\n",
        "\n",
        "    def forward(self, x):\n",
        "        return self.net(x)\n"
      ]
    },
    {
      "cell_type": "markdown",
      "id": "9e80e74f",
      "metadata": {
        "id": "9e80e74f"
      },
      "source": [
        "Decoder"
      ]
    },
    {
      "cell_type": "code",
      "execution_count": null,
      "id": "aabd4fba",
      "metadata": {
        "id": "aabd4fba"
      },
      "outputs": [],
      "source": [
        "class DecoderBlock(nn.Module):\n",
        "    def __init__(self, d_model, num_heads, d_ff):\n",
        "        super().__init__()\n",
        "        self.attn = MultiHeadAttention(d_model, num_heads)\n",
        "        self.ff = FeedForward(d_model, d_ff)\n",
        "        self.ln1 = nn.LayerNorm(d_model)\n",
        "        self.ln2 = nn.LayerNorm(d_model)\n",
        "\n",
        "    def forward(self, x, mask):\n",
        "        x = self.ln1(x + self.attn(x, mask))\n",
        "        x = self.ln2(x + self.ff(x))\n",
        "        return x\n"
      ]
    },
    {
      "cell_type": "markdown",
      "id": "f3eebce8",
      "metadata": {
        "id": "f3eebce8"
      },
      "source": [
        "Transformer Decoder"
      ]
    },
    {
      "cell_type": "code",
      "execution_count": null,
      "id": "de55e8f2",
      "metadata": {
        "id": "de55e8f2"
      },
      "outputs": [],
      "source": [
        "class TransformerDecoder(nn.Module):\n",
        "    def __init__(self, vocab_size, d_model=256, num_heads=8, d_ff=1024, num_layers=4, max_len=512):\n",
        "        super().__init__()\n",
        "        self.token_embed = nn.Embedding(vocab_size, d_model)\n",
        "        self.pos_embed = PositionalEncoding(d_model, max_len)\n",
        "        self.layers = nn.ModuleList([DecoderBlock(d_model, num_heads, d_ff) for _ in range(num_layers)])\n",
        "        self.norm = nn.LayerNorm(d_model)\n",
        "        self.lm_head = nn.Linear(d_model, vocab_size)\n",
        "\n",
        "    def forward(self, x):\n",
        "        B, T = x.shape\n",
        "        mask = generate_causal_mask(T).to(x.device)\n",
        "        x = self.token_embed(x)\n",
        "        x = self.pos_embed(x)\n",
        "        for layer in self.layers:\n",
        "            x = layer(x, mask)\n",
        "        x = self.norm(x)\n",
        "        return self.lm_head(x)\n"
      ]
    },
    {
      "cell_type": "markdown",
      "id": "fb490cab",
      "metadata": {
        "id": "fb490cab"
      },
      "source": [
        "Training"
      ]
    },
    {
      "cell_type": "code",
      "execution_count": null,
      "id": "17f50125",
      "metadata": {
        "id": "17f50125"
      },
      "outputs": [],
      "source": [
        "# Checkpoint Utils\n",
        "def save_checkpoint(model, optimizer, epoch, path=\"checkpoint.pt\"):\n",
        "    torch.save({\n",
        "        'epoch': epoch,\n",
        "        'model_state': model.state_dict(),\n",
        "        'optimizer_state': optimizer.state_dict()\n",
        "    }, path)\n",
        "    print(f\"Checkpoint saved at {path}\")\n",
        "\n",
        "def load_checkpoint(model, optimizer, path=\"checkpoint.pt\", device=\"cpu\"):\n",
        "    checkpoint = torch.load(path, map_location=device)\n",
        "    model.load_state_dict(checkpoint['model_state'])\n",
        "    optimizer.load_state_dict(checkpoint['optimizer_state'])\n",
        "    print(f\"Checkpoint loaded from {path}, epoch {checkpoint['epoch']}\")\n",
        "    return checkpoint['epoch']\n",
        "\n",
        "\n",
        "# Training Loop with checkpoint\n",
        "device = torch.device(\"cuda\" if torch.cuda.is_available() else \"cpu\")\n",
        "model = TransformerDecoder(vocab_size).to(device)\n",
        "optimizer = optim.Adam(model.parameters(), lr=3e-4)\n",
        "criterion = nn.CrossEntropyLoss()\n",
        "\n",
        "# Resume from checkpoint if exists\n",
        "start_epoch = 1\n",
        "# Uncomment to resume:\n",
        "# start_epoch = load_checkpoint(model, optimizer, \"decoder_checkpoint.pt\", device=device) + 1\n",
        "\n",
        "num_epochs = 3\n",
        "for epoch in range(start_epoch, num_epochs + 1):\n",
        "    # Training\n",
        "    model.train()\n",
        "    total_loss = 0\n",
        "    for xb, yb in train_loader:\n",
        "        xb, yb = xb.to(device), yb.to(device)\n",
        "        logits = model(xb)\n",
        "        loss = criterion(logits.view(-1, vocab_size), yb.view(-1))\n",
        "        optimizer.zero_grad()\n",
        "        loss.backward()\n",
        "        optimizer.step()\n",
        "        total_loss += loss.item()\n",
        "\n",
        "    # Validation\n",
        "    val_loss = 0\n",
        "    model.eval()\n",
        "    with torch.no_grad():\n",
        "        for xb, yb in valid_loader:\n",
        "            xb, yb = xb.to(device), yb.to(device)\n",
        "            logits = model(xb)\n",
        "            loss = criterion(logits.view(-1, vocab_size), yb.view(-1))\n",
        "            val_loss += loss.item()\n",
        "\n",
        "    print(f\"Epoch {epoch} | Train Loss: {total_loss/len(train_loader):.4f} | Val Loss: {val_loss/len(valid_loader):.4f}\")\n",
        "\n",
        "    # Save checkpoint after each epoch\n",
        "    save_checkpoint(model, optimizer, epoch, f\"decoder_checkpoint_epoch{epoch}.pt\")\n"
      ]
    },
    {
      "cell_type": "markdown",
      "id": "cd6e388d",
      "metadata": {
        "id": "cd6e388d"
      },
      "source": [
        "Text Generation"
      ]
    },
    {
      "cell_type": "code",
      "execution_count": null,
      "id": "e7123373",
      "metadata": {
        "id": "e7123373"
      },
      "outputs": [],
      "source": [
        "def generate_text(model, start_text, stoi, itos, max_new_tokens=50, temperature=1.0, device=\"cpu\"):\n",
        "    model.eval()\n",
        "    tokens = start_text.split()\n",
        "    input_ids = torch.tensor([stoi.get(t, stoi[\"<unk>\"]) for t in tokens], dtype=torch.long, device=device).unsqueeze(0)\n",
        "\n",
        "    for _ in range(max_new_tokens):\n",
        "        with torch.no_grad():\n",
        "            logits = model(input_ids)[:, -1, :]  # last step logits\n",
        "            logits = logits / temperature\n",
        "            probs = F.softmax(logits, dim=-1)\n",
        "            next_id = torch.multinomial(probs, num_samples=1)\n",
        "            input_ids = torch.cat([input_ids, next_id], dim=1)\n",
        "\n",
        "    output_tokens = [itos[i.item()] for i in input_ids[0]]\n",
        "    return \" \".join(output_tokens)\n",
        "\n",
        "\n",
        "#Usage\n",
        "print(generate_text(model, \"the company\", stoi, itos, max_new_tokens=30, device=device))\n",
        "\n"
      ]
    }
  ],
  "metadata": {
    "kernelspec": {
      "display_name": "Python 3",
      "language": "python",
      "name": "python3"
    },
    "language_info": {
      "codemirror_mode": {
        "name": "ipython",
        "version": 3
      },
      "file_extension": ".py",
      "mimetype": "text/x-python",
      "name": "python",
      "nbconvert_exporter": "python",
      "pygments_lexer": "ipython3",
      "version": "3.11.9"
    },
    "colab": {
      "provenance": []
    }
  },
  "nbformat": 4,
  "nbformat_minor": 5
}