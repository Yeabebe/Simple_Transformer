{
 "cells": [
  {
   "cell_type": "markdown",
   "id": "094c86ae",
   "metadata": {},
   "source": [
    "Import Libraries "
   ]
  },
  {
   "cell_type": "code",
   "execution_count": 1,
   "id": "c46a206c",
   "metadata": {},
   "outputs": [],
   "source": [
    "import torch\n",
    "import torch.nn as nn\n",
    "import math\n"
   ]
  },
  {
   "cell_type": "markdown",
   "id": "0cfb22ae",
   "metadata": {},
   "source": [
    "Positional Encoding "
   ]
  },
  {
   "cell_type": "code",
   "execution_count": 12,
   "id": "dbbeb211",
   "metadata": {},
   "outputs": [],
   "source": [
    "class PositionalEncoding(nn.Module):\n",
    "    def __init__(self, d_model, max_len=5000):\n",
    "        super().__init__()\n",
    "        self.max_len = max_len\n",
    "        pe = torch.zeros(max_len, d_model)\n",
    "        position = torch.arange(0, max_len).unsqueeze(1).float()\n",
    "        div_term = torch.exp(torch.arange(0, d_model, 2).float() * (-math.log(10000.0) / d_model))\n",
    "\n",
    "        pe[:, 0::2] = torch.sin(position * div_term)  # even indices\n",
    "        pe[:, 1::2] = torch.cos(position * div_term)  # odd indices\n",
    "        pe = pe.unsqueeze(0)  # shape: (1, max_len, d_model)\n",
    "        self.register_buffer('pe', pe)\n",
    "\n",
    "    def forward(self, x):\n",
    "        # x shape: (batch_size, seq_len, d_model)\n",
    "        return x + self.pe[:, :x.size(1)]\n"
   ]
  },
  {
   "cell_type": "markdown",
   "id": "b23a4f6d",
   "metadata": {},
   "source": [
    "Masked Multi-Head self-attention "
   ]
  },
  {
   "cell_type": "code",
   "execution_count": 3,
   "id": "2e0b6f0e",
   "metadata": {},
   "outputs": [],
   "source": [
    "class MultiHeadAttention(nn.Module):\n",
    "    def __init__(self, d_model, num_heads):\n",
    "        super().__init__()\n",
    "        assert d_model % num_heads == 0\n",
    "        self.d_k = d_model // num_heads\n",
    "        self.num_heads = num_heads\n",
    "\n",
    "        self.qkv_proj = nn.Linear(d_model, 3 * d_model)\n",
    "        self.o_proj = nn.Linear(d_model, d_model)\n",
    "\n",
    "    def forward(self, x, mask=None):\n",
    "        B, T, C = x.shape\n",
    "        qkv = self.qkv_proj(x)  # shape: (B, T, 3C)\n",
    "        qkv = qkv.reshape(B, T, self.num_heads, 3 * self.d_k)\n",
    "        qkv = qkv.permute(2, 0, 1, 3).chunk(3, dim=-1)\n",
    "        q, k, v = qkv  # each has shape: (num_heads, B, T, d_k)\n",
    "\n",
    "        attn_scores = torch.matmul(q, k.transpose(-2, -1)) / math.sqrt(self.d_k)\n",
    "        if mask is not None:\n",
    "            attn_scores = attn_scores.masked_fill(mask == 0, float('-inf'))\n",
    "\n",
    "        attn_weights = torch.softmax(attn_scores, dim=-1)\n",
    "        out = torch.matmul(attn_weights, v)  # shape: (num_heads, B, T, d_k)\n",
    "        out = out.transpose(0, 1).contiguous().view(B, T, C)  # merge heads\n",
    "        return self.o_proj(out)\n"
   ]
  },
  {
   "cell_type": "markdown",
   "id": "11cc47c3",
   "metadata": {},
   "source": [
    "Feed-Forward "
   ]
  },
  {
   "cell_type": "code",
   "execution_count": 4,
   "id": "06f29ebe",
   "metadata": {},
   "outputs": [],
   "source": [
    "class FeedForward(nn.Module):\n",
    "    def __init__(self, d_model, d_ff):\n",
    "        super().__init__()\n",
    "        self.net = nn.Sequential(\n",
    "            nn.Linear(d_model, d_ff),\n",
    "            nn.ReLU(),\n",
    "            nn.Linear(d_ff, d_model)\n",
    "        )\n",
    "\n",
    "    def forward(self, x):\n",
    "        return self.net(x)\n"
   ]
  },
  {
   "cell_type": "markdown",
   "id": "9e80e74f",
   "metadata": {},
   "source": [
    "Decoder "
   ]
  },
  {
   "cell_type": "code",
   "execution_count": 5,
   "id": "aabd4fba",
   "metadata": {},
   "outputs": [],
   "source": [
    "class DecoderBlock(nn.Module):\n",
    "    def __init__(self, d_model, num_heads, d_ff):\n",
    "        super().__init__()\n",
    "        self.attn = MultiHeadAttention(d_model, num_heads)\n",
    "        self.ff = FeedForward(d_model, d_ff)\n",
    "        self.ln1 = nn.LayerNorm(d_model)\n",
    "        self.ln2 = nn.LayerNorm(d_model)\n",
    "\n",
    "    def forward(self, x, mask):\n",
    "        x = self.ln1(x + self.attn(x, mask))\n",
    "        x = self.ln2(x + self.ff(x))\n",
    "        return x\n"
   ]
  },
  {
   "cell_type": "markdown",
   "id": "2c484c64",
   "metadata": {},
   "source": [
    "Casual Mask "
   ]
  },
  {
   "cell_type": "code",
   "execution_count": 6,
   "id": "b2a0f46e",
   "metadata": {},
   "outputs": [],
   "source": [
    "def generate_causal_mask(seq_len):\n",
    "    mask = torch.tril(torch.ones(seq_len, seq_len)).unsqueeze(0).unsqueeze(1)\n",
    "    return mask  # shape: (1, 1, seq_len, seq_len)\n"
   ]
  },
  {
   "cell_type": "markdown",
   "id": "f3eebce8",
   "metadata": {},
   "source": [
    "Transformer Decoder "
   ]
  },
  {
   "cell_type": "code",
   "execution_count": 7,
   "id": "de55e8f2",
   "metadata": {},
   "outputs": [],
   "source": [
    "class TransformerDecoder(nn.Module):\n",
    "    def __init__(self, vocab_size, d_model=512, num_heads=8, d_ff=2048, num_layers=6, max_len=512):\n",
    "        super().__init__()\n",
    "        self.token_embed = nn.Embedding(vocab_size, d_model)\n",
    "        self.pos_embed = PositionalEncoding(d_model, max_len)\n",
    "        self.layers = nn.ModuleList([DecoderBlock(d_model, num_heads, d_ff) for _ in range(num_layers)])\n",
    "        self.norm = nn.LayerNorm(d_model)\n",
    "        self.lm_head = nn.Linear(d_model, vocab_size)\n",
    "\n",
    "    def forward(self, x):\n",
    "        B, T = x.shape\n",
    "        mask = generate_causal_mask(T).to(x.device)\n",
    "        x = self.token_embed(x)\n",
    "        x = self.pos_embed(x)\n",
    "\n",
    "        for layer in self.layers:\n",
    "            x = layer(x, mask)\n",
    "\n",
    "        x = self.norm(x)\n",
    "        return self.lm_head(x)  # output logits\n"
   ]
  },
  {
   "cell_type": "code",
   "execution_count": 8,
   "id": "2451475d",
   "metadata": {},
   "outputs": [],
   "source": [
    "# vocab_size = number of unique tokens in your dataset (e.g. 5000)\n",
    "model = TransformerDecoder(vocab_size=5000)\n",
    "\n",
    "# input_tokens shape: (batch_size, seq_len)\n",
    "input_tokens = torch.randint(0, 5000, (2, 32))  # example input\n",
    "logits = model(input_tokens)  # shape: (2, 32, 5000)\n",
    "\n",
    "# Convert logits to probabilities for the next token prediction:\n",
    "next_token_probs = torch.softmax(logits[:, -1], dim=-1)\n"
   ]
  },
  {
   "cell_type": "markdown",
   "id": "78cc2b3e",
   "metadata": {},
   "source": [
    "Dummy Tokenizer "
   ]
  },
  {
   "cell_type": "code",
   "execution_count": null,
   "id": "bc34a6a7",
   "metadata": {},
   "outputs": [],
   "source": [
    "# Dummy tokenizer mapping\n",
    "vocab_size = 100  \n",
    "idx2token = {i: f\"tok{i}\" for i in range(vocab_size)}\n",
    "token2idx = {v: k for k, v in idx2token.items()}\n"
   ]
  },
  {
   "cell_type": "markdown",
   "id": "55a63fbf",
   "metadata": {},
   "source": [
    "Dummy Generation Function "
   ]
  },
  {
   "cell_type": "code",
   "execution_count": 10,
   "id": "6421a634",
   "metadata": {},
   "outputs": [],
   "source": [
    "def generate_text(model, start_tokens, max_new_tokens=20):\n",
    "    model.eval()\n",
    "    generated = start_tokens.clone()\n",
    "\n",
    "    for _ in range(max_new_tokens):\n",
    "        # Trim input if longer than max_len\n",
    "        if generated.size(1) > model.pos_embed.max_len:\n",
    "            generated = generated[:, -model.pos_embed.max_len:]\n",
    "\n",
    "        logits = model(generated)  # (B, T, vocab_size)\n",
    "        next_token_logits = logits[:, -1, :]  # (B, vocab_size)\n",
    "        next_token = torch.argmax(next_token_logits, dim=-1).unsqueeze(1)  # (B, 1)\n",
    "        generated = torch.cat([generated, next_token], dim=1)\n",
    "\n",
    "    return generated\n"
   ]
  },
  {
   "cell_type": "code",
   "execution_count": 16,
   "id": "bf6b6d0c",
   "metadata": {},
   "outputs": [
    {
     "name": "stdout",
     "output_type": "stream",
     "text": [
      "Generated token IDs: [[1, 5, 7, 23, 76, 82, 24, 76, 52, 76, 95, 77, 72]]\n"
     ]
    }
   ],
   "source": [
    "# Init model\n",
    "model = TransformerDecoder(vocab_size)\n",
    "\n",
    "# Dummy input: start with a few token IDs (batch size 1)\n",
    "start = torch.tensor([[1, 5, 7]], dtype=torch.long)  # Shape (1, T)\n",
    "\n",
    "# Generate sequence\n",
    "output = generate_text(model, start, max_new_tokens=10)\n",
    "\n",
    "# Print token IDs\n",
    "print(\"Generated token IDs:\", output.tolist())\n"
   ]
  },
  {
   "cell_type": "markdown",
   "id": "cd6e388d",
   "metadata": {},
   "source": [
    "Actual Inference "
   ]
  },
  {
   "cell_type": "code",
   "execution_count": 17,
   "id": "e7123373",
   "metadata": {},
   "outputs": [],
   "source": [
    "@torch.no_grad()\n",
    "def generate_text(model, start_tokens, max_new_tokens=20, eos_token_id=None):\n",
    "    model.eval()\n",
    "    generated = start_tokens.clone()\n",
    "\n",
    "    for _ in range(max_new_tokens):\n",
    "        # Trim if exceeds max_len\n",
    "        if generated.size(1) > model.pos_embed.pe.size(1):\n",
    "            generated = generated[:, -model.pos_embed.pe.size(1):]\n",
    "\n",
    "        # Forward pass\n",
    "        logits = model(generated)  # shape: (B, T, vocab_size)\n",
    "\n",
    "        # Get logits for last time step\n",
    "        next_logits = logits[:, -1, :]  # shape: (B, vocab_size)\n",
    "\n",
    "        # Use greedy decoding (argmax)\n",
    "        next_token = torch.argmax(next_logits, dim=-1, keepdim=True)  # shape: (B, 1)\n",
    "\n",
    "        # Append to sequence\n",
    "        generated = torch.cat([generated, next_token], dim=1)\n",
    "\n",
    "        # Optional: stop if EOS token is generated (if using one)\n",
    "        if eos_token_id is not None:\n",
    "            if torch.all(next_token == eos_token_id):\n",
    "                break\n",
    "\n",
    "    return generated\n"
   ]
  },
  {
   "cell_type": "code",
   "execution_count": 25,
   "id": "9a2925f2",
   "metadata": {},
   "outputs": [
    {
     "name": "stdout",
     "output_type": "stream",
     "text": [
      "Generated token IDs: [[1, 5, 7, 23, 76, 82, 24, 76, 52, 76, 95, 77, 72]]\n"
     ]
    }
   ],
   "source": [
    "# Example input (batch size 1)\n",
    "start = torch.tensor([[1, 5, 7]], dtype=torch.long)\n",
    "\n",
    "# Generate new tokens\n",
    "output = generate_text(model, start, max_new_tokens=10)\n",
    "\n",
    "# Output shape: (1, start_len + 10)\n",
    "print(\"Generated token IDs:\", output.tolist())\n"
   ]
  }
 ],
 "metadata": {
  "kernelspec": {
   "display_name": "Python 3",
   "language": "python",
   "name": "python3"
  },
  "language_info": {
   "codemirror_mode": {
    "name": "ipython",
    "version": 3
   },
   "file_extension": ".py",
   "mimetype": "text/x-python",
   "name": "python",
   "nbconvert_exporter": "python",
   "pygments_lexer": "ipython3",
   "version": "3.11.9"
  }
 },
 "nbformat": 4,
 "nbformat_minor": 5
}
